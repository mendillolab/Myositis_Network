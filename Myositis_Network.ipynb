{
 "cells": [
  {
   "cell_type": "markdown",
   "id": "3a2c9568",
   "metadata": {},
   "source": [
    "# <u>INTERACTIVE GUIDE</u>\n",
    "## Imposing a biopsy transcriptome onto the myositis network architecture and running the neural network\n",
    "\n",
    "This is the process for converting a biopsy transcriptome into a network image to explore in Cytoscape, and then feeding that transcriptome image to the neural network described in Amici et al., 2021.\n",
    "\n",
    "Paper link: \n",
    "\n",
    "Contact for questions: david.amici@northwestern.edu\n",
    "\n",
    "\n",
    "### 1. Import necessary modules and prepare the transcriptome data\n",
    "\n",
    "It is suggested that you use your own control patients where possible. If not, it is likely that batch effects - related to sequencing or processing parameters - may contribute to the differences between your patient(s) and our controls, and thus affect how the network appears. However, if this is not possible, use our controls and follow the processing pipeline below. You can also compare vs. our myositis patients as discussed below.\n",
    "\n",
    "As a side note, if you are new to coding/Python, comments hide behind the # symbol. Use the comments to understand what each line does. You will likely need to install some packages. Anaconda (https://www.anaconda.com/products/individual) is a good source for most of them. Otherwise use the terminal as needed, pip install module_name. Finally, as some things will almost certainly fail due to updates to packages (etc.), be sure to Google your error message! Chances are you will find the answer. If not, email me!"
   ]
  },
  {
   "cell_type": "code",
   "execution_count": 1,
   "id": "3a1c96c6",
   "metadata": {},
   "outputs": [
    {
     "data": {
      "text/html": [
       "<style>.container { width:98% !important; }</style>"
      ],
      "text/plain": [
       "<IPython.core.display.HTML object>"
      ]
     },
     "metadata": {},
     "output_type": "display_data"
    },
    {
     "data": {
      "text/html": [
       "<style>.output_result { max-width:98% !important; }</style>"
      ],
      "text/plain": [
       "<IPython.core.display.HTML object>"
      ]
     },
     "metadata": {},
     "output_type": "display_data"
    }
   ],
   "source": [
    "## Import necessary modules\n",
    "import pandas as pd\n",
    "import numpy as np\n",
    "\n",
    "# to remove blank gray space at the edges of notebook, remove if desired\n",
    "from IPython.core.display import display, HTML\n",
    "display(HTML(\"<style>.container { width:98% !important; }</style>\"))\n",
    "display(HTML(\"<style>.output_result { max-width:98% !important; }</style>\"))"
   ]
  },
  {
   "cell_type": "code",
   "execution_count": 2,
   "id": "3d573a28",
   "metadata": {},
   "outputs": [
    {
     "name": "stdout",
     "output_type": "stream",
     "text": [
      "Relative expression profile saved as Example_rel_exp.csv\n",
      "\n",
      "Example DEG: (L2FC)\n"
     ]
    },
    {
     "data": {
      "text/html": [
       "<div>\n",
       "<style scoped>\n",
       "    .dataframe tbody tr th:only-of-type {\n",
       "        vertical-align: middle;\n",
       "    }\n",
       "\n",
       "    .dataframe tbody tr th {\n",
       "        vertical-align: top;\n",
       "    }\n",
       "\n",
       "    .dataframe thead th {\n",
       "        text-align: right;\n",
       "    }\n",
       "</style>\n",
       "<table border=\"1\" class=\"dataframe\">\n",
       "  <thead>\n",
       "    <tr style=\"text-align: right;\">\n",
       "      <th></th>\n",
       "      <th>Example</th>\n",
       "    </tr>\n",
       "  </thead>\n",
       "  <tbody>\n",
       "    <tr>\n",
       "      <th>RPL26</th>\n",
       "      <td>7.688068</td>\n",
       "    </tr>\n",
       "    <tr>\n",
       "      <th>IFI6</th>\n",
       "      <td>6.756401</td>\n",
       "    </tr>\n",
       "    <tr>\n",
       "      <th>ISG15</th>\n",
       "      <td>6.664723</td>\n",
       "    </tr>\n",
       "    <tr>\n",
       "      <th>MYBPH</th>\n",
       "      <td>5.957776</td>\n",
       "    </tr>\n",
       "    <tr>\n",
       "      <th>RPL27</th>\n",
       "      <td>5.814963</td>\n",
       "    </tr>\n",
       "  </tbody>\n",
       "</table>\n",
       "</div>"
      ],
      "text/plain": [
       "        Example\n",
       "RPL26  7.688068\n",
       "IFI6   6.756401\n",
       "ISG15  6.664723\n",
       "MYBPH  5.957776\n",
       "RPL27  5.814963"
      ]
     },
     "execution_count": 2,
     "metadata": {},
     "output_type": "execute_result"
    }
   ],
   "source": [
    "### Process the transcriptome data for loading into Cytoscape\n",
    "\n",
    "### median log2(FPKM+1) of our control patients, or replace with yours\n",
    "control = pd.read_csv('median_control_exp.csv', index_col=0)\n",
    "\n",
    "### if you want to compare with myositis patients on average instead of normal\n",
    "### controls, run the following code to change what is normalized to.\n",
    "# control = pd.read_csv('median_myositis_exp.csv', index_col=0)\n",
    "\n",
    "\n",
    "### input a FPKM file, or use ours as an example\n",
    "input_patient = pd.read_csv('mi2_example_exp.csv', index_col=0)\n",
    "\n",
    "\n",
    "###Name the patient\n",
    "name = 'Example'\n",
    "input_patient.columns = [name]\n",
    "\n",
    "### ours is in log2(FPKM+1) format already, if yours is just FPKM, run the following\n",
    "# input_patient = np.log2(input_patient+1)\n",
    "\n",
    "### generate relative expression profile\n",
    "input_patient =  control.join(input_patient)\n",
    "input_patient[name] = input_patient[name] - input_patient.control\n",
    "input_patient = input_patient[[name]]\n",
    "input_patient.to_csv('{}_rel_exp.csv'.format(name))\n",
    "\n",
    "print('Relative expression profile saved as {}_rel_exp.csv\\n'.format(name))\n",
    "print('Example DEG: (L2FC)')\n",
    "input_patient.sort_values(by=name, ascending=False).head()"
   ]
  },
  {
   "cell_type": "markdown",
   "id": "f2ed3ad4",
   "metadata": {},
   "source": [
    "## 2. Load into the network (Cytoscape)\n",
    "\n",
    "First, if you haven't already downloaded cytoscape: https://cytoscape.org/\n",
    "\n",
    "Next, load our Cytoscape session file (myositis.cys) from either GitHub or the associated publication. It will take a while to load the first time.\n",
    "\n",
    "You should now see the network as described in the manuscript. To overlay your custom expression profile (or ot view that of other groups discussed in the manuscript), go to the style tab (brown circle below). Make sure that \"node\" is selected (bottom menu).\n",
    "\n",
    "The color on the network represents a simple mapping where 0 log2 fold change is white (no change) and positive and negative changes are red and blue, respectively. Thus, you will tell cytoscape that you want the nodes colored based on your expression profile using the fill color mapping option (blue circle below). Choose the column of your session - here, whatever you've named your patient. Wait a few seconds, and the network will be colored based on your custom biopsy! \n",
    "\n",
    "Search for individual genes of interest using search bar (brown circle). To look at a pathway/module of interest from the manuscript or the associated excel files with all of the modules listed, \n",
    "\n",
    "Or, if you want to use the neural network, proceed to the next section.\n",
    "\n",
    "<img src=\"example_cys.png\" alt=\"Drawing\" style=\"width: 800px;\"/>"
   ]
  },
  {
   "cell_type": "markdown",
   "id": "a13db4b9",
   "metadata": {},
   "source": [
    "## 3. Use the myositis neural network\n",
    "\n",
    "The input format for the network is a simple image of your network as viewed in cytoscape, as described above. With how much data is stored in each network, Cytoscape's exporting functions do not work well for this purpose. So, the easiest way is to simply enlarge your window to the extent possible and take a screenshot (save as .jpg). \n",
    "\n",
    "An example image is below - the image doesn't need to exactly perfect, but try to have the legs of the square be close to the edges of the network without cutting off any genes.\n",
    "\n",
    "\n",
    "<img src=\"example_DM.jpg\" alt=\"Drawing\" style=\"width: 300px;\"/>\n",
    "\n",
    "\n",
    "At this point, you're ready to input your biopsy into the neural network. The code below will generate the model, load the weights from our training and validation data, and then analyze your image."
   ]
  },
  {
   "cell_type": "code",
   "execution_count": 3,
   "id": "2050c878",
   "metadata": {},
   "outputs": [],
   "source": [
    "### Generate the model\n",
    "\n",
    "from keras.models import Sequential\n",
    "from keras.layers import Conv2D, MaxPooling2D\n",
    "from keras.layers import Activation, Dropout, Flatten, Dense\n",
    "\n",
    "model = Sequential()\n",
    "model.add(Conv2D(32, (3, 3), input_shape=(300, 300, 3)))\n",
    "model.add(Activation('relu'))\n",
    "model.add(MaxPooling2D(pool_size=(2, 2)))\n",
    "\n",
    "model.add(Conv2D(32, (3, 3)))\n",
    "model.add(Activation('relu'))\n",
    "model.add(MaxPooling2D(pool_size=(2, 2)))\n",
    "\n",
    "model.add(Conv2D(64, (3, 3)))\n",
    "model.add(Activation('relu'))\n",
    "model.add(MaxPooling2D(pool_size=(2, 2)))\n",
    "\n",
    "model.add(Flatten())  # convert 3D feature maps --> 1D feature vectors\n",
    "model.add(Dense(64))\n",
    "model.add(Activation('relu'))\n",
    "model.add(Dropout(0.5))\n",
    "model.add(Dense(5, activation='softmax'))   \n",
    "\n",
    "# COMPILE\n",
    "from keras import optimizers\n",
    "sgd = optimizers.SGD(lr=0.01, decay=1e-6, momentum=0.9, nesterov=True)\n",
    "model.compile(loss='categorical_crossentropy',\n",
    "              optimizer='rmsprop', #adam #sgd\n",
    "              metrics=['accuracy'])\n",
    "\n",
    "\n",
    "### Load the weights from training/validation by Amici et al.\n",
    "\n",
    "model.load_weights(\"classify_5_500_epochs_than_retrain_50.h5\")\n",
    "#newest version of h5py doesn't play well with tensorflow seemingly, see\n",
    "#https://github.com/tensorflow/tensorflow/issues/44467. I used yan12125's solution"
   ]
  },
  {
   "cell_type": "markdown",
   "id": "4ba3b42c",
   "metadata": {},
   "source": [
    "Now you can run the model with your input image (or ours, as an example).\n",
    "\n",
    "This can give an estimated diagnosis."
   ]
  },
  {
   "cell_type": "code",
   "execution_count": 4,
   "id": "b68161db",
   "metadata": {},
   "outputs": [
    {
     "name": "stdout",
     "output_type": "stream",
     "text": [
      "The network would classify this biopsy as: \n",
      "\n",
      "Dermatomyositis\n",
      "\n",
      "****\n"
     ]
    }
   ],
   "source": [
    "### Input the name (path) to your image, or use our example\n",
    "image_path = 'example_DM.jpg'\n",
    "\n",
    "from keras.preprocessing.image import ImageDataGenerator, array_to_img, img_to_array, load_img\n",
    "img = load_img(image_path, target_size=(300,300))\n",
    "x = img_to_array(img)  # this is a Numpy array with shape (300, 300, 3)\n",
    "your_array = x.reshape((1,300,300,3))  # this is a Numpy array with shape (1, 300, 300, 3)\n",
    "\n",
    "labels = ['Anti-Synthetase Syndrome', 'Dermatomyositis', 'Inclusion body myositis', \n",
    "          'Immune-Mediated Necrotizing Myopaty', 'Normal (non-myositis)']\n",
    "\n",
    "group_pred = labels[model.predict(your_array).argmax(axis=-1)[0]]\n",
    "\n",
    "print('The network would classify this biopsy as: \\n\\n{}'.format(group_pred))\n",
    "\n",
    "print('\\n****')"
   ]
  },
  {
   "cell_type": "markdown",
   "id": "3f4b3a41",
   "metadata": {},
   "source": [
    "Recall, however, that the purpose of our neural network is not to serve as a universal diagnostic tool. Our groups were imbalanced (i.e., more of one class than another) and we had relatively few patients overall.\n",
    "\n",
    "<u>Thus: use of the network as a diagnostic tool cannot be recommended without further study and likely additional training using an external dataset.</u>\n",
    "\n",
    "However, the predictions can be intriguing and may help us think about individual biopsies. To extract the feature-level insights from your dataset, similar to how we organize patients in our manuscript, run the code below."
   ]
  },
  {
   "cell_type": "code",
   "execution_count": 8,
   "id": "c686327c",
   "metadata": {},
   "outputs": [
    {
     "data": {
      "image/png": "[encoded data removed]",
      "text/plain": [
       "<Figure size 1656x288 with 1 Axes>"
      ]
     },
     "metadata": {},
     "output_type": "display_data"
    }
   ],
   "source": [
    "#import modules\n",
    "from keras.models import Model\n",
    "import os\n",
    "import seaborn as sns\n",
    "import matplotlib.pyplot as plt\n",
    "import scipy.cluster.hierarchy as sch\n",
    "\n",
    "#Pare down model to stop at features step\n",
    "just_features = Model(inputs=model.inputs, outputs=model.layers[-2].output)\n",
    "    \n",
    "#Images generated in our study\n",
    "net_features = pd.read_csv('features_from_our_patients.csv', index_col=0)\n",
    "\n",
    "your_features = just_features.predict(your_array)\n",
    "net_features = net_features.append(pd.DataFrame(your_features, columns=net_features.columns, index=['MY_BIOPSY']))\n",
    "\n",
    "\n",
    "linkage = sch.linkage((net_features), method  = \"ward\", optimal_ordering=True)\n",
    "sns.set(font_scale=1, context='paper', font=\"Arial\", style='white')\n",
    "dend1 = sch.dendrogram(linkage,leaf_rotation=90, leaf_font_size=8, color_threshold=15000,\n",
    "                       labels=net_features.index\n",
    "                      )\n",
    "ax = plt.gca()\n",
    "ax.tick_params(axis='x', which='major', labelsize=10)\n",
    "ax.set_yticklabels([])\n",
    "plt.gcf().set_size_inches(23,4)\n",
    "sns.despine(left=True, bottom=True)\n",
    "plt.show(); plt.close()"
   ]
  },
  {
   "cell_type": "markdown",
   "id": "bbd1c0ab",
   "metadata": {},
   "source": [
    "This tells us that the patient - here, an example DM patient - fits best within the DM cluster. Cross referencing with the manuscript reminds us that this is the DM-severe cluster."
   ]
  }
 ],
 "metadata": {
  "kernelspec": {
   "display_name": "Python 3",
   "language": "python",
   "name": "python3"
  },
  "language_info": {
   "codemirror_mode": {
    "name": "ipython",
    "version": 3
   },
   "file_extension": ".py",
   "mimetype": "text/x-python",
   "name": "python",
   "nbconvert_exporter": "python",
   "pygments_lexer": "ipython3",
   "version": "3.7.6"
  }
 },
 "nbformat": 4,
 "nbformat_minor": 5
}
